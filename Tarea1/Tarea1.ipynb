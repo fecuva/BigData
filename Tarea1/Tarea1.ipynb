{
 "cells": [
  {
   "cell_type": "markdown",
   "metadata": {},
   "source": [
    "# Tarea 1\n",
    "\n",
    "## Luis Felipe Cubero Vargas\n",
    "\n",
    "El siguiente documento corresponde a la tarea 1 del curso de Bigdata "
   ]
  },
  {
   "cell_type": "markdown",
   "metadata": {},
   "source": [
    "Lo primero a realizar es la carga de paquetes necesarios"
   ]
  },
  {
   "cell_type": "code",
   "execution_count": 1,
   "metadata": {},
   "outputs": [],
   "source": [
    "from pyspark.sql import SparkSession\n",
    "\n",
    "spark=SparkSession.builder.appName('data_processing').getOrCreate()\n",
    "\n",
    "import pyspark.sql.functions as F\n",
    "from pyspark.sql.types import *"
   ]
  },
  {
   "cell_type": "code",
   "execution_count": 2,
   "metadata": {},
   "outputs": [],
   "source": [
    "import findspark\n",
    "findspark.init('/opt/spark')\n",
    "\n",
    "from datetime import datetime\n",
    "from pyspark.sql import SparkSession\n",
    "from pyspark.sql.functions import col, date_format, udf \n",
    "from pyspark.sql.types import DateType"
   ]
  },
  {
   "cell_type": "markdown",
   "metadata": {},
   "source": [
    "Una vez cargados los paquete necesarios se procede con la carga del dataset que se pretende analizar.\n",
    "\n",
    "En este caso consiste en una dataset sobre el prestamos de bicicletas en londres, tomando en cuando la season, la temperatura y su sensación termica, así como también la humedad y la velocidad del viento, si es feriado, si es fin de semana."
   ]
  },
  {
   "cell_type": "code",
   "execution_count": 3,
   "metadata": {},
   "outputs": [],
   "source": [
    "df = spark.read.csv('london_merged.csv',header = True, inferSchema = True)"
   ]
  },
  {
   "cell_type": "code",
   "execution_count": 5,
   "metadata": {},
   "outputs": [
    {
     "data": {
      "text/plain": [
       "StructType(List(StructField(timestamp,TimestampType,true),StructField(cnt,IntegerType,true),StructField(t1,DoubleType,true),StructField(t2,DoubleType,true),StructField(hum,DoubleType,true),StructField(wind_speed,DoubleType,true),StructField(weather_code,DoubleType,true),StructField(is_holiday,DoubleType,true),StructField(is_weekend,DoubleType,true),StructField(season,DoubleType,true)))"
      ]
     },
     "execution_count": 5,
     "metadata": {},
     "output_type": "execute_result"
    }
   ],
   "source": [
    "df.schema"
   ]
  },
  {
   "cell_type": "code",
   "execution_count": 4,
   "metadata": {},
   "outputs": [
    {
     "name": "stdout",
     "output_type": "stream",
     "text": [
      "+-------------------+---+---+---+-----+----------+------------+----------+----------+------+\n",
      "|          timestamp|cnt| t1| t2|  hum|wind_speed|weather_code|is_holiday|is_weekend|season|\n",
      "+-------------------+---+---+---+-----+----------+------------+----------+----------+------+\n",
      "|2015-01-04 00:00:00|182|3.0|2.0| 93.0|       6.0|         3.0|       0.0|       1.0|   3.0|\n",
      "|2015-01-04 01:00:00|138|3.0|2.5| 93.0|       5.0|         1.0|       0.0|       1.0|   3.0|\n",
      "|2015-01-04 02:00:00|134|2.5|2.5| 96.5|       0.0|         1.0|       0.0|       1.0|   3.0|\n",
      "|2015-01-04 03:00:00| 72|2.0|2.0|100.0|       0.0|         1.0|       0.0|       1.0|   3.0|\n",
      "|2015-01-04 04:00:00| 47|2.0|0.0| 93.0|       6.5|         1.0|       0.0|       1.0|   3.0|\n",
      "+-------------------+---+---+---+-----+----------+------------+----------+----------+------+\n",
      "only showing top 5 rows\n",
      "\n"
     ]
    }
   ],
   "source": [
    "df.show(5)"
   ]
  },
  {
   "cell_type": "code",
   "execution_count": 19,
   "metadata": {},
   "outputs": [
    {
     "data": {
      "text/plain": [
       "['timestamp',\n",
       " 'cnt',\n",
       " 't1',\n",
       " 't2',\n",
       " 'hum',\n",
       " 'wind_speed',\n",
       " 'weather_code',\n",
       " 'is_holiday',\n",
       " 'is_weekend',\n",
       " 'season',\n",
       " 'temperature_feels']"
      ]
     },
     "execution_count": 19,
     "metadata": {},
     "output_type": "execute_result"
    }
   ],
   "source": [
    "df.columns"
   ]
  },
  {
   "cell_type": "markdown",
   "metadata": {},
   "source": [
    "Con lo anterior se nos permite visualizar el tipo de datos que tenemos una vez cargado la base de datos.\n",
    "Ahora realizaremos una  busqueda para ver si existen valores nulos dentro del dataset"
   ]
  },
  {
   "cell_type": "code",
   "execution_count": 6,
   "metadata": {},
   "outputs": [
    {
     "name": "stdout",
     "output_type": "stream",
     "text": [
      "timestamp 0\n",
      "cnt 0\n",
      "t1 0\n",
      "t2 0\n",
      "hum 0\n",
      "wind_speed 0\n",
      "weather_code 0\n",
      "is_holiday 0\n",
      "is_weekend 0\n",
      "season 0\n"
     ]
    }
   ],
   "source": [
    "df.where(col(\"timestamp\").isNull()).count()\n",
    "for c in df.columns: print(c,df.where(col(c).isNull()).count())"
   ]
  },
  {
   "cell_type": "markdown",
   "metadata": {},
   "source": [
    "De lo anterior podemos observar que no existen valores nulos dentro del dataset con lo cual podemos continuar con el análisis"
   ]
  },
  {
   "cell_type": "code",
   "execution_count": 7,
   "metadata": {},
   "outputs": [
    {
     "name": "stdout",
     "output_type": "stream",
     "text": [
      "+-------+------------------+------------------+-----------------+------------------+------------------+------------------+-------------------+-------------------+------------------+\n",
      "|summary|               cnt|                t1|               t2|               hum|        wind_speed|      weather_code|         is_holiday|         is_weekend|            season|\n",
      "+-------+------------------+------------------+-----------------+------------------+------------------+------------------+-------------------+-------------------+------------------+\n",
      "|  count|             17414|             17414|            17414|             17414|             17414|             17414|              17414|              17414|             17414|\n",
      "|   mean|1143.1016423567244|12.468090808162016|11.52083572604418| 72.32495405995176|15.913063244133076| 2.722751808889399|0.02205122315378431|0.28540254967267714|1.4920753416791088|\n",
      "| stddev|1085.1080679362196|  5.57181756292053|6.615144673127889|14.313186095310893|7.8945703293611755|2.3411632846456647|0.14685436715275973| 0.4516189175710235|1.1189108748277612|\n",
      "|    min|                 0|              -1.5|             -6.0|              20.5|               0.0|               1.0|                0.0|                0.0|               0.0|\n",
      "|    25%|               257|               8.0|              6.0|              63.0|              10.0|               1.0|                0.0|                0.0|               0.0|\n",
      "|    50%|               844|              12.5|             12.5|              74.5|              15.0|               2.0|                0.0|                0.0|               1.0|\n",
      "|    75%|              1671|              16.0|             16.0|              83.0|              20.5|               3.0|                0.0|                1.0|               2.0|\n",
      "|    max|              7860|              34.0|             34.0|             100.0|              56.5|              26.0|                1.0|                1.0|               3.0|\n",
      "+-------+------------------+------------------+-----------------+------------------+------------------+------------------+-------------------+-------------------+------------------+\n",
      "\n"
     ]
    }
   ],
   "source": [
    "df.summary().show()"
   ]
  },
  {
   "cell_type": "code",
   "execution_count": 8,
   "metadata": {},
   "outputs": [
    {
     "name": "stdout",
     "output_type": "stream",
     "text": [
      "+---------------+\n",
      "|       avg(cnt)|\n",
      "+---------------+\n",
      "|977.41569416499|\n",
      "+---------------+\n",
      "\n"
     ]
    }
   ],
   "source": [
    "df.filter(df['is_weekend']==1.0).agg(F.mean('cnt')).show()"
   ]
  },
  {
   "cell_type": "code",
   "execution_count": 9,
   "metadata": {},
   "outputs": [
    {
     "name": "stdout",
     "output_type": "stream",
     "text": [
      "+-----------------+\n",
      "|         avg(cnt)|\n",
      "+-----------------+\n",
      "|1209.274831243973|\n",
      "+-----------------+\n",
      "\n"
     ]
    }
   ],
   "source": [
    "df.filter(df['is_weekend']==0.0).agg(F.mean('cnt')).show()"
   ]
  },
  {
   "cell_type": "markdown",
   "metadata": {},
   "source": [
    "De lo anterior podemos ver que la gente tiende a utilizar más las bicicletas durante la semana que durante los fines de semana, lo cual puede ser un indicador importante para el comportamiento del prestamos de bicicletas, ahora veremos si se cumple lo mismo para los diás feriados"
   ]
  },
  {
   "cell_type": "code",
   "execution_count": 10,
   "metadata": {},
   "outputs": [
    {
     "name": "stdout",
     "output_type": "stream",
     "text": [
      "+-----------------+\n",
      "|         avg(cnt)|\n",
      "+-----------------+\n",
      "|769.5260416666666|\n",
      "+-----------------+\n",
      "\n"
     ]
    }
   ],
   "source": [
    "df.filter(df['is_holiday']==1.0).agg(F.mean('cnt')).show()"
   ]
  },
  {
   "cell_type": "code",
   "execution_count": 11,
   "metadata": {},
   "outputs": [
    {
     "name": "stdout",
     "output_type": "stream",
     "text": [
      "+------------------+\n",
      "|          avg(cnt)|\n",
      "+------------------+\n",
      "|1151.5251908396947|\n",
      "+------------------+\n",
      "\n"
     ]
    }
   ],
   "source": [
    "df.filter(df['is_holiday']==0.0).agg(F.mean('cnt')).show()"
   ]
  },
  {
   "cell_type": "markdown",
   "metadata": {},
   "source": [
    "Nuevamente podemos observar que durante los días feriados el patrón se mantiene. "
   ]
  },
  {
   "cell_type": "code",
   "execution_count": 12,
   "metadata": {},
   "outputs": [
    {
     "name": "stdout",
     "output_type": "stream",
     "text": [
      "+------------+\n",
      "|weather_code|\n",
      "+------------+\n",
      "|         7.0|\n",
      "|         1.0|\n",
      "|         4.0|\n",
      "|         3.0|\n",
      "|         2.0|\n",
      "|        10.0|\n",
      "|        26.0|\n",
      "+------------+\n",
      "\n"
     ]
    }
   ],
   "source": [
    "df.select(\"weather_code\").distinct().show()\n"
   ]
  },
  {
   "cell_type": "code",
   "execution_count": 13,
   "metadata": {},
   "outputs": [],
   "source": [
    "df = df.withColumn(\n",
    "    'temperature_feels',\n",
    "    F.when(F.col('t2').between(-10.0,0.0 ), '-10 to 0')\\\n",
    "    .when( F.col('t2').between(0.0,10.0), '0 to 10')\\\n",
    "    .when(F.col('t2').between(10.0,20.0), '10 to 20')\\\n",
    "    .when(F.col('t2').between(20,34), '20 to 34')\\\n",
    "    .otherwise(0)\n",
    ")"
   ]
  },
  {
   "cell_type": "markdown",
   "metadata": {},
   "source": [
    "Con el condigo anterior agrupamos la sensación termica en 4 grupos lo cual nos permite ver el comportamiento del alquiler de bicicletas basado en la sensanción terminca del día"
   ]
  },
  {
   "cell_type": "code",
   "execution_count": 14,
   "metadata": {},
   "outputs": [
    {
     "name": "stdout",
     "output_type": "stream",
     "text": [
      "+-----------------+------------------+\n",
      "|temperature_feels|          avg(cnt)|\n",
      "+-----------------+------------------+\n",
      "|         20 to 34| 2342.528354080221|\n",
      "|         10 to 20|1205.9541612483745|\n",
      "|         -10 to 0| 645.3968042609854|\n",
      "|          0 to 10|  819.074636834196|\n",
      "+-----------------+------------------+\n",
      "\n"
     ]
    }
   ],
   "source": [
    "df.groupby('temperature_feels').agg(F.mean('cnt')).show()"
   ]
  },
  {
   "cell_type": "markdown",
   "metadata": {},
   "source": [
    "De lo anterior podemos ver que el alquiler de bicicletas tiene un crecimiento lineal a medida que aumenta la temperatura"
   ]
  },
  {
   "cell_type": "code",
   "execution_count": 15,
   "metadata": {},
   "outputs": [],
   "source": [
    "df = df.withColumn(\"weather_code\", \\\n",
    "              F.when(df[\"weather_code\"] == 1.0, 'Clear')\\\n",
    "                .when(df[\"weather_code\"]==2.0,'Scattered clouds / few clouds')\\\n",
    "                .when(df[\"weather_code\"]==3.0,'Broken clouds') \\\n",
    "                .when(df[\"weather_code\"]==4.0,'Cloudy')\\\n",
    "                .when(df[\"weather_code\"]==7.0,'Rain/ light Rain shower/ Light rain') \\\n",
    "                .when(df[\"weather_code\"]==10.0,'Rain with thunderstorm') \\\n",
    "                .when(df[\"weather_code\"]==26.0,'Snowfall') \\\n",
    "                   .otherwise(df[\"weather_code\"]))"
   ]
  },
  {
   "cell_type": "code",
   "execution_count": 16,
   "metadata": {},
   "outputs": [
    {
     "name": "stdout",
     "output_type": "stream",
     "text": [
      "+-----------------+--------------------+------------------+\n",
      "|temperature_feels|        weather_code|          avg(cnt)|\n",
      "+-----------------+--------------------+------------------+\n",
      "|          0 to 10|Rain with thunder...| 762.1666666666666|\n",
      "|         -10 to 0|Scattered clouds ...|        977.890625|\n",
      "|          0 to 10|            Snowfall|           138.125|\n",
      "|          0 to 10|              Cloudy| 591.1295487627366|\n",
      "|          0 to 10|               Clear| 745.7786370227163|\n",
      "|         -10 to 0|               Clear| 530.7789473684211|\n",
      "|         -10 to 0|       Broken clouds| 874.6974789915967|\n",
      "|         10 to 20|Rain/ light Rain ...| 787.0081566068516|\n",
      "|          0 to 10|Scattered clouds ...|1087.7340764331211|\n",
      "|         20 to 34|              Cloudy|           1677.25|\n",
      "|         10 to 20|               Clear|1200.3531799729365|\n",
      "|         10 to 20|            Snowfall|              38.0|\n",
      "|         10 to 20|       Broken clouds|1233.5009372071227|\n",
      "|         10 to 20|Rain with thunder...|           449.375|\n",
      "|         10 to 20|Scattered clouds ...| 1596.321802457897|\n",
      "|         -10 to 0|              Cloudy| 433.7894736842105|\n",
      "|         -10 to 0|Rain/ light Rain ...|440.35714285714283|\n",
      "|         20 to 34|               Clear|2488.4442953020134|\n",
      "|          0 to 10|       Broken clouds|1002.0406137184116|\n",
      "|         -10 to 0|            Snowfall|            420.68|\n",
      "+-----------------+--------------------+------------------+\n",
      "only showing top 20 rows\n",
      "\n"
     ]
    }
   ],
   "source": [
    "df.groupby('temperature_feels','weather_code').agg(F.mean('cnt')).show()"
   ]
  },
  {
   "cell_type": "markdown",
   "metadata": {},
   "source": [
    "De analisis anterior en donde consideramos el clima y la sensación termica, podemos ver como se comporta el alquiler en donde el factor de que clima cambia la decision de alquilar o no, podemos ver que por ejemplo en casos donde la sensación termica esta 10 a 20 pero esta necando la gente decide no alquilar, lo cual nos indica una correlación entre las variables y por ende como factores predictores del alquiler o prestamo de bicicletas."
   ]
  },
  {
   "cell_type": "markdown",
   "metadata": {},
   "source": [
    "Ahora vamos a generar una matriz de correlaciones de pearson para ver como interactuan las diferentes variables"
   ]
  },
  {
   "cell_type": "code",
   "execution_count": 26,
   "metadata": {},
   "outputs": [],
   "source": [
    "from pyspark.mllib.stat import Statistics\n",
    "import pandas as pd\n",
    "\n",
    "# df = sqlCtx.read.format('com.databricks.spark.csv').option('header', 'true').option('inferschema', 'true').load('corr_test.csv')\n",
    "df = df.select(['cnt','t1','t2','hum', 'wind_speed', 'is_holiday', 'is_weekend', 'season'])\n",
    "col_names = df.columns\n",
    "features = df.rdd.map(lambda row: row[0:])\n",
    "corr_mat=Statistics.corr(features, method=\"pearson\")\n",
    "corr_df = pd.DataFrame(corr_mat,columns=col_names,index=col_names)"
   ]
  },
  {
   "cell_type": "code",
   "execution_count": 27,
   "metadata": {},
   "outputs": [
    {
     "data": {
      "text/html": [
       "<div>\n",
       "<style scoped>\n",
       "    .dataframe tbody tr th:only-of-type {\n",
       "        vertical-align: middle;\n",
       "    }\n",
       "\n",
       "    .dataframe tbody tr th {\n",
       "        vertical-align: top;\n",
       "    }\n",
       "\n",
       "    .dataframe thead th {\n",
       "        text-align: right;\n",
       "    }\n",
       "</style>\n",
       "<table border=\"1\" class=\"dataframe\">\n",
       "  <thead>\n",
       "    <tr style=\"text-align: right;\">\n",
       "      <th></th>\n",
       "      <th>cnt</th>\n",
       "      <th>t1</th>\n",
       "      <th>t2</th>\n",
       "      <th>hum</th>\n",
       "      <th>wind_speed</th>\n",
       "      <th>is_holiday</th>\n",
       "      <th>is_weekend</th>\n",
       "      <th>season</th>\n",
       "    </tr>\n",
       "  </thead>\n",
       "  <tbody>\n",
       "    <tr>\n",
       "      <th>cnt</th>\n",
       "      <td>1.000000</td>\n",
       "      <td>0.388798</td>\n",
       "      <td>0.369035</td>\n",
       "      <td>-0.462901</td>\n",
       "      <td>0.116295</td>\n",
       "      <td>-0.051698</td>\n",
       "      <td>-0.096499</td>\n",
       "      <td>-0.116180</td>\n",
       "    </tr>\n",
       "    <tr>\n",
       "      <th>t1</th>\n",
       "      <td>0.388798</td>\n",
       "      <td>1.000000</td>\n",
       "      <td>0.988344</td>\n",
       "      <td>-0.447781</td>\n",
       "      <td>0.145471</td>\n",
       "      <td>-0.042233</td>\n",
       "      <td>-0.005342</td>\n",
       "      <td>-0.285851</td>\n",
       "    </tr>\n",
       "    <tr>\n",
       "      <th>t2</th>\n",
       "      <td>0.369035</td>\n",
       "      <td>0.988344</td>\n",
       "      <td>1.000000</td>\n",
       "      <td>-0.403495</td>\n",
       "      <td>0.088409</td>\n",
       "      <td>-0.040051</td>\n",
       "      <td>-0.008510</td>\n",
       "      <td>-0.285900</td>\n",
       "    </tr>\n",
       "    <tr>\n",
       "      <th>hum</th>\n",
       "      <td>-0.462901</td>\n",
       "      <td>-0.447781</td>\n",
       "      <td>-0.403495</td>\n",
       "      <td>1.000000</td>\n",
       "      <td>-0.287789</td>\n",
       "      <td>0.032068</td>\n",
       "      <td>0.028098</td>\n",
       "      <td>0.290381</td>\n",
       "    </tr>\n",
       "    <tr>\n",
       "      <th>wind_speed</th>\n",
       "      <td>0.116295</td>\n",
       "      <td>0.145471</td>\n",
       "      <td>0.088409</td>\n",
       "      <td>-0.287789</td>\n",
       "      <td>1.000000</td>\n",
       "      <td>-0.002606</td>\n",
       "      <td>0.011479</td>\n",
       "      <td>0.010305</td>\n",
       "    </tr>\n",
       "    <tr>\n",
       "      <th>is_holiday</th>\n",
       "      <td>-0.051698</td>\n",
       "      <td>-0.042233</td>\n",
       "      <td>-0.040051</td>\n",
       "      <td>0.032068</td>\n",
       "      <td>-0.002606</td>\n",
       "      <td>1.000000</td>\n",
       "      <td>-0.094898</td>\n",
       "      <td>-0.032488</td>\n",
       "    </tr>\n",
       "    <tr>\n",
       "      <th>is_weekend</th>\n",
       "      <td>-0.096499</td>\n",
       "      <td>-0.005342</td>\n",
       "      <td>-0.008510</td>\n",
       "      <td>0.028098</td>\n",
       "      <td>0.011479</td>\n",
       "      <td>-0.094898</td>\n",
       "      <td>1.000000</td>\n",
       "      <td>0.001067</td>\n",
       "    </tr>\n",
       "    <tr>\n",
       "      <th>season</th>\n",
       "      <td>-0.116180</td>\n",
       "      <td>-0.285851</td>\n",
       "      <td>-0.285900</td>\n",
       "      <td>0.290381</td>\n",
       "      <td>0.010305</td>\n",
       "      <td>-0.032488</td>\n",
       "      <td>0.001067</td>\n",
       "      <td>1.000000</td>\n",
       "    </tr>\n",
       "  </tbody>\n",
       "</table>\n",
       "</div>"
      ],
      "text/plain": [
       "                 cnt        t1        t2       hum  wind_speed  is_holiday  \\\n",
       "cnt         1.000000  0.388798  0.369035 -0.462901    0.116295   -0.051698   \n",
       "t1          0.388798  1.000000  0.988344 -0.447781    0.145471   -0.042233   \n",
       "t2          0.369035  0.988344  1.000000 -0.403495    0.088409   -0.040051   \n",
       "hum        -0.462901 -0.447781 -0.403495  1.000000   -0.287789    0.032068   \n",
       "wind_speed  0.116295  0.145471  0.088409 -0.287789    1.000000   -0.002606   \n",
       "is_holiday -0.051698 -0.042233 -0.040051  0.032068   -0.002606    1.000000   \n",
       "is_weekend -0.096499 -0.005342 -0.008510  0.028098    0.011479   -0.094898   \n",
       "season     -0.116180 -0.285851 -0.285900  0.290381    0.010305   -0.032488   \n",
       "\n",
       "            is_weekend    season  \n",
       "cnt          -0.096499 -0.116180  \n",
       "t1           -0.005342 -0.285851  \n",
       "t2           -0.008510 -0.285900  \n",
       "hum           0.028098  0.290381  \n",
       "wind_speed    0.011479  0.010305  \n",
       "is_holiday   -0.094898 -0.032488  \n",
       "is_weekend    1.000000  0.001067  \n",
       "season        0.001067  1.000000  "
      ]
     },
     "execution_count": 27,
     "metadata": {},
     "output_type": "execute_result"
    }
   ],
   "source": [
    "corr_df"
   ]
  },
  {
   "cell_type": "markdown",
   "metadata": {},
   "source": [
    "De lo anterior como esperabamos la temperatura tiene una correlación positiva con el prestamos de bicicletas, al igual que la velocidad del viento, de igual forma si es feriado o fin de semana tienen un relación negativa pero se puede observar que es una relaxión pequeña"
   ]
  },
  {
   "cell_type": "code",
   "execution_count": 46,
   "metadata": {},
   "outputs": [
    {
     "ename": "AttributeError",
     "evalue": "'PipelinedRDD' object has no attribute 'to_DF'",
     "output_type": "error",
     "traceback": [
      "\u001b[0;31m---------------------------------------------------------------------------\u001b[0m",
      "\u001b[0;31mAttributeError\u001b[0m                            Traceback (most recent call last)",
      "\u001b[0;32m<ipython-input-46-693e94c75cfb>\u001b[0m in \u001b[0;36m<module>\u001b[0;34m\u001b[0m\n\u001b[0;32m----> 1\u001b[0;31m \u001b[0mdf2\u001b[0m \u001b[0;34m=\u001b[0m \u001b[0mdf\u001b[0m\u001b[0;34m.\u001b[0m\u001b[0mselect\u001b[0m\u001b[0;34m(\u001b[0m\u001b[0;34m'cnt'\u001b[0m\u001b[0;34m)\u001b[0m\u001b[0;34m.\u001b[0m\u001b[0mrdd\u001b[0m\u001b[0;34m.\u001b[0m\u001b[0mmap\u001b[0m\u001b[0;34m(\u001b[0m\u001b[0;32mlambda\u001b[0m \u001b[0mx\u001b[0m\u001b[0;34m:\u001b[0m \u001b[0;34m(\u001b[0m\u001b[0mx\u001b[0m\u001b[0;34m,\u001b[0m\u001b[0;36m1\u001b[0m\u001b[0;34m)\u001b[0m\u001b[0;34m)\u001b[0m\u001b[0;34m.\u001b[0m\u001b[0mto_DF\u001b[0m\u001b[0;34m(\u001b[0m\u001b[0;34m)\u001b[0m\u001b[0;34m\u001b[0m\u001b[0;34m\u001b[0m\u001b[0m\n\u001b[0m\u001b[1;32m      2\u001b[0m \u001b[0mdf2\u001b[0m\u001b[0;34m.\u001b[0m\u001b[0mshow\u001b[0m\u001b[0;34m(\u001b[0m\u001b[0;34m)\u001b[0m\u001b[0;34m\u001b[0m\u001b[0;34m\u001b[0m\u001b[0m\n",
      "\u001b[0;31mAttributeError\u001b[0m: 'PipelinedRDD' object has no attribute 'to_DF'"
     ]
    }
   ],
   "source": [
    "df2 = df.select('cnt').rdd.map(lambda x: (x,1)).to_DF()\n"
   ]
  },
  {
   "cell_type": "code",
   "execution_count": null,
   "metadata": {},
   "outputs": [],
   "source": []
  }
 ],
 "metadata": {
  "kernelspec": {
   "display_name": "Python 3",
   "language": "python",
   "name": "python3"
  },
  "language_info": {
   "codemirror_mode": {
    "name": "ipython",
    "version": 3
   },
   "file_extension": ".py",
   "mimetype": "text/x-python",
   "name": "python",
   "nbconvert_exporter": "python",
   "pygments_lexer": "ipython3",
   "version": "3.7.4"
  }
 },
 "nbformat": 4,
 "nbformat_minor": 2
}
