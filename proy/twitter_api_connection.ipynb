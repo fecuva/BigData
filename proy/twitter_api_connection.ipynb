{
 "cells": [
  {
   "cell_type": "code",
   "execution_count": 1,
   "metadata": {},
   "outputs": [],
   "source": [
    "#pip3 install python-twitter\n",
    "import twitter"
   ]
  },
  {
   "cell_type": "code",
   "execution_count": 2,
   "metadata": {},
   "outputs": [],
   "source": [
    "api = twitter.Api(consumer_key='RNbWRckUdr1mzMYe2ir2S44aP',\n",
    "  consumer_secret='FVB0RX0nGo1VMRAMF603g7jOKuZdKfCLo0SjXWv2T15wHvLMRy',\n",
    "    access_token_key='1220749681900191744-JDImKJjEF4NadKsiKekx82zDI9FyQW',\n",
    "    access_token_secret='bQaUWESSjNkqhO3d2Sc4pLPmNDYLr5DiRIIS5ko5Sg4yv')"
   ]
  },
  {
   "cell_type": "code",
   "execution_count": 3,
   "metadata": {},
   "outputs": [
    {
     "name": "stdout",
     "output_type": "stream",
     "text": [
      "{\"created_at\": \"Fri Jan 24 16:46:29 +0000 2020\", \"default_profile\": true, \"friends_count\": 7, \"id\": 1220749681900191744, \"id_str\": \"1220749681900191744\", \"name\": \"Luis Felipe Cubero\", \"profile_background_color\": \"F5F8FA\", \"profile_image_url\": \"http://pbs.twimg.com/profile_images/1220750095768903680/FxWNsUy0_normal.jpg\", \"profile_image_url_https\": \"https://pbs.twimg.com/profile_images/1220750095768903680/FxWNsUy0_normal.jpg\", \"profile_link_color\": \"1DA1F2\", \"profile_sidebar_border_color\": \"C0DEED\", \"profile_sidebar_fill_color\": \"DDEEF6\", \"profile_text_color\": \"333333\", \"profile_use_background_image\": true, \"screen_name\": \"LuisFelipeCube1\"}\n"
     ]
    }
   ],
   "source": [
    "print(api.VerifyCredentials())"
   ]
  },
  {
   "cell_type": "code",
   "execution_count": 45,
   "metadata": {},
   "outputs": [
    {
     "data": {
      "text/plain": [
       "[Status(ID=1222957743251714049, ScreenName=realDonaldTrump, Created=Thu Jan 30 19:00:22 +0000 2020, Text='RT @IvankaTrump: 🇺🇸 New Gallup Poll 🇺🇸 Double-digit improvements in how Americans view the nation’s economy, security from terrorism, milit…')]"
      ]
     },
     "execution_count": 45,
     "metadata": {},
     "output_type": "execute_result"
    }
   ],
   "source": [
    "statuses = api.GetUserTimeline(screen_name='realdonaldtrump')\n",
    "statuses"
   ]
  },
  {
   "cell_type": "code",
   "execution_count": 15,
   "metadata": {},
   "outputs": [
    {
     "data": {
      "text/plain": [
       "[Status(ID=1222931754891300878, ScreenName=aqreal0, Created=Thu Jan 30 17:17:05 +0000 2020, Text='Set your dreams and goals this much high 💪🏻😍\\n\\nBe like #elon\\n\\n#tesla #neuralink #hyperloop #paypal #spaceX… https://t.co/3sQwqGimDi'),\n",
       " Status(ID=1222904035264516107, ScreenName=RenegadeJulie, Created=Thu Jan 30 15:26:57 +0000 2020, Text=\"@Perpetualmaniac @elonmusk is pushing #neuralink chip in the brain, does he have one?  He's a sell out to the Globa… https://t.co/TCX9whZ793\"),\n",
       " Status(ID=1222822036516605952, ScreenName=Mat_Germain_, Created=Thu Jan 30 10:01:07 +0000 2020, Text='#ElonMusk companies latest accomplishments:\\n#SpaceX launches another 60 satellites (240 now in orbit)\\n#Tesla crushe… https://t.co/szhkxqd0nB'),\n",
       " Status(ID=1222786176299323392, ScreenName=marcellodesales, Created=Thu Jan 30 07:38:37 +0000 2020, Text=\"@elonmusk I can wear any #Neuralink's tech if you solve my #tinnitus problem... It's been a loud world for the last 9 months...\"),\n",
       " Status(ID=1222773403637178368, ScreenName=ZeroLaw17, Created=Thu Jan 30 06:47:52 +0000 2020, Text='These are the most powerful rocket engines. We as the humans species can build for space science. 🤯🚀🛰 #Future… https://t.co/vNh5c2CAvJ'),\n",
       " Status(ID=1222768321235427328, ScreenName=Exobiologie, Created=Thu Jan 30 06:27:40 +0000 2020, Text='not sure #Neuralink agrees with that @knutson_brain https://t.co/F3ZyO1HSqX https://t.co/rBwQulZUto'),\n",
       " Status(ID=1222551712046755840, ScreenName=Any1Coin, Created=Wed Jan 29 16:06:56 +0000 2020, Text='-Da Milano a Malpensa a velocità supersonica nel “tubo” di Hyperloop-\\n\\n#any1coin #hyperloop #tesla #elonmusk… https://t.co/syoK5fMW9l'),\n",
       " Status(ID=1222320945894961153, ScreenName=biogirl09, Created=Wed Jan 29 00:49:57 +0000 2020, Text='RT @28delayslater: Latest #Neuralink project allows you to pour data right into your head. Awesome. \\n\\n https://t.co/ADAJVnxOAY'),\n",
       " Status(ID=1222230196100702208, ScreenName=Jennifergalatis, Created=Tue Jan 28 18:49:21 +0000 2020, Text='Symbiosis Nw flm aout Mars and private companies #spacex #neuralink and the new #5G\\nNetwork and how they are relate… https://t.co/2caxbYhSmY'),\n",
       " Status(ID=1222217058101817345, ScreenName=MelaynaLokosky, Created=Tue Jan 28 17:57:09 +0000 2020, Text=\"@Keubiko Tesla *fans* mirroring Elon Musk's own human deficiencies have created a new psychology term: Schadenfreud… https://t.co/0mlZSddOqZ\")]"
      ]
     },
     "execution_count": 15,
     "metadata": {},
     "output_type": "execute_result"
    }
   ],
   "source": [
    "api.GetSearch(term='#neuralink', since=2020-1-1, count=10)"
   ]
  },
  {
   "cell_type": "code",
   "execution_count": 54,
   "metadata": {},
   "outputs": [],
   "source": [
    "elon = api.GetUser(screen_name='delfinomachin')"
   ]
  },
  {
   "cell_type": "code",
   "execution_count": 55,
   "metadata": {},
   "outputs": [
    {
     "data": {
      "text/plain": [
       "dict_keys(['param_defaults', 'contributors_enabled', 'created_at', 'default_profile', 'default_profile_image', 'description', 'email', 'favourites_count', 'followers_count', 'following', 'friends_count', 'geo_enabled', 'id', 'id_str', 'lang', 'listed_count', 'location', 'name', 'notifications', 'profile_background_color', 'profile_background_image_url', 'profile_background_image_url_https', 'profile_background_tile', 'profile_banner_url', 'profile_image_url', 'profile_image_url_https', 'profile_link_color', 'profile_sidebar_border_color', 'profile_sidebar_fill_color', 'profile_text_color', 'profile_use_background_image', 'protected', 'screen_name', 'status', 'statuses_count', 'time_zone', 'url', 'utc_offset', 'verified', 'withheld_in_countries', 'withheld_scope', '_json'])"
      ]
     },
     "execution_count": 55,
     "metadata": {},
     "output_type": "execute_result"
    }
   ],
   "source": [
    "elon.__dict__.keys()"
   ]
  },
  {
   "cell_type": "code",
   "execution_count": 56,
   "metadata": {},
   "outputs": [
    {
     "data": {
      "text/plain": [
       "{'id': 1006173880568942593,\n",
       " 'id_str': '1006173880568942593',\n",
       " 'name': 'Diego Delfino',\n",
       " 'screen_name': 'delfinomachin',\n",
       " 'location': 'San José, Costa Rica',\n",
       " 'profile_location': None,\n",
       " 'description': 'Contacto: diego@delfino.cr',\n",
       " 'url': 'https://t.co/7p5Ok7995u',\n",
       " 'entities': {'url': {'urls': [{'url': 'https://t.co/7p5Ok7995u',\n",
       "     'expanded_url': 'http://Delfino.CR',\n",
       "     'display_url': 'Delfino.CR',\n",
       "     'indices': [0, 23]}]},\n",
       "  'description': {'urls': []}},\n",
       " 'protected': False,\n",
       " 'followers_count': 5172,\n",
       " 'friends_count': 699,\n",
       " 'listed_count': 6,\n",
       " 'created_at': 'Mon Jun 11 13:58:41 +0000 2018',\n",
       " 'favourites_count': 3685,\n",
       " 'utc_offset': None,\n",
       " 'time_zone': None,\n",
       " 'geo_enabled': True,\n",
       " 'verified': False,\n",
       " 'statuses_count': 4819,\n",
       " 'lang': None,\n",
       " 'status': {'created_at': 'Thu Jan 30 19:09:29 +0000 2020',\n",
       "  'id': 1222960038173724672,\n",
       "  'id_str': '1222960038173724672',\n",
       "  'text': '@Guiller12790376 🤣 Solo vos. 🖤',\n",
       "  'truncated': False,\n",
       "  'entities': {'hashtags': [],\n",
       "   'symbols': [],\n",
       "   'user_mentions': [{'screen_name': 'Guiller12790376',\n",
       "     'name': 'Guillermo Barquero',\n",
       "     'id': 960506444016766978,\n",
       "     'id_str': '960506444016766978',\n",
       "     'indices': [0, 16]}],\n",
       "   'urls': []},\n",
       "  'source': '<a href=\"http://twitter.com/download/iphone\" rel=\"nofollow\">Twitter for iPhone</a>',\n",
       "  'in_reply_to_status_id': 1222916264349372417,\n",
       "  'in_reply_to_status_id_str': '1222916264349372417',\n",
       "  'in_reply_to_user_id': 960506444016766978,\n",
       "  'in_reply_to_user_id_str': '960506444016766978',\n",
       "  'in_reply_to_screen_name': 'Guiller12790376',\n",
       "  'geo': None,\n",
       "  'coordinates': None,\n",
       "  'place': None,\n",
       "  'contributors': None,\n",
       "  'is_quote_status': False,\n",
       "  'retweet_count': 0,\n",
       "  'favorite_count': 1,\n",
       "  'favorited': False,\n",
       "  'retweeted': False,\n",
       "  'lang': 'es'},\n",
       " 'contributors_enabled': False,\n",
       " 'is_translator': False,\n",
       " 'is_translation_enabled': False,\n",
       " 'profile_background_color': 'F5F8FA',\n",
       " 'profile_background_image_url': None,\n",
       " 'profile_background_image_url_https': None,\n",
       " 'profile_background_tile': False,\n",
       " 'profile_image_url': 'http://pbs.twimg.com/profile_images/1103151108845912064/eD5IyN1r_normal.png',\n",
       " 'profile_image_url_https': 'https://pbs.twimg.com/profile_images/1103151108845912064/eD5IyN1r_normal.png',\n",
       " 'profile_banner_url': 'https://pbs.twimg.com/profile_banners/1006173880568942593/1528726771',\n",
       " 'profile_link_color': '1DA1F2',\n",
       " 'profile_sidebar_border_color': 'C0DEED',\n",
       " 'profile_sidebar_fill_color': 'DDEEF6',\n",
       " 'profile_text_color': '333333',\n",
       " 'profile_use_background_image': True,\n",
       " 'has_extended_profile': True,\n",
       " 'default_profile': True,\n",
       " 'default_profile_image': False,\n",
       " 'can_media_tag': False,\n",
       " 'followed_by': False,\n",
       " 'following': False,\n",
       " 'follow_request_sent': False,\n",
       " 'notifications': False,\n",
       " 'translator_type': 'none'}"
      ]
     },
     "execution_count": 56,
     "metadata": {},
     "output_type": "execute_result"
    }
   ],
   "source": [
    "elon._json"
   ]
  },
  {
   "cell_type": "code",
   "execution_count": 61,
   "metadata": {},
   "outputs": [
    {
     "data": {
      "text/plain": [
       "{'created_at': 'Thu Jan 30 19:55:17 +0000 2020',\n",
       " 'id': 1222971565844979714,\n",
       " 'id_str': '1222971565844979714',\n",
       " 'text': '@julio https://t.co/biKuktveVr',\n",
       " 'truncated': False,\n",
       " 'entities': {'hashtags': [],\n",
       "  'symbols': [],\n",
       "  'user_mentions': [{'screen_name': 'Julio',\n",
       "    'name': 'Julio Contreras',\n",
       "    'id': 12729802,\n",
       "    'id_str': '12729802',\n",
       "    'indices': [0, 6]}],\n",
       "  'urls': [{'url': 'https://t.co/biKuktveVr',\n",
       "    'expanded_url': 'https://twitter.com/elifeinzaig/status/1222968352089563136',\n",
       "    'display_url': 'twitter.com/elifeinzaig/st…',\n",
       "    'indices': [7, 30]}]},\n",
       " 'source': '<a href=\"http://twitter.com/download/iphone\" rel=\"nofollow\">Twitter for iPhone</a>',\n",
       " 'in_reply_to_status_id': None,\n",
       " 'in_reply_to_status_id_str': None,\n",
       " 'in_reply_to_user_id': 12729802,\n",
       " 'in_reply_to_user_id_str': '12729802',\n",
       " 'in_reply_to_screen_name': 'Julio',\n",
       " 'user': {'id': 2891285033,\n",
       "  'id_str': '2891285033',\n",
       "  'name': 'Esteban Araya Oviedo',\n",
       "  'screen_name': 'EarayaOviedo',\n",
       "  'location': 'Flores, Heredia.',\n",
       "  'description': 'Hijo, hermano, profesional, Católico, provida, “el que no trabaja que no coma, buen jefe🏋️\\u200d♀️🤽🏻\\u200d♂️🍮🥗🧔🏻!hombre joven... la vida esta llena de bendiciones.',\n",
       "  'url': None,\n",
       "  'entities': {'description': {'urls': []}},\n",
       "  'protected': False,\n",
       "  'followers_count': 591,\n",
       "  'friends_count': 606,\n",
       "  'listed_count': 15,\n",
       "  'created_at': 'Mon Nov 24 20:39:55 +0000 2014',\n",
       "  'favourites_count': 73675,\n",
       "  'utc_offset': None,\n",
       "  'time_zone': None,\n",
       "  'geo_enabled': True,\n",
       "  'verified': False,\n",
       "  'statuses_count': 24465,\n",
       "  'lang': None,\n",
       "  'contributors_enabled': False,\n",
       "  'is_translator': False,\n",
       "  'is_translation_enabled': False,\n",
       "  'profile_background_color': 'C0DEED',\n",
       "  'profile_background_image_url': 'http://abs.twimg.com/images/themes/theme1/bg.png',\n",
       "  'profile_background_image_url_https': 'https://abs.twimg.com/images/themes/theme1/bg.png',\n",
       "  'profile_background_tile': False,\n",
       "  'profile_image_url': 'http://pbs.twimg.com/profile_images/1170848616384270336/neuzQ2TG_normal.jpg',\n",
       "  'profile_image_url_https': 'https://pbs.twimg.com/profile_images/1170848616384270336/neuzQ2TG_normal.jpg',\n",
       "  'profile_banner_url': 'https://pbs.twimg.com/profile_banners/2891285033/1577965067',\n",
       "  'profile_image_extensions_alt_text': None,\n",
       "  'profile_banner_extensions_alt_text': None,\n",
       "  'profile_link_color': '1DA1F2',\n",
       "  'profile_sidebar_border_color': 'C0DEED',\n",
       "  'profile_sidebar_fill_color': 'DDEEF6',\n",
       "  'profile_text_color': '333333',\n",
       "  'profile_use_background_image': True,\n",
       "  'has_extended_profile': True,\n",
       "  'default_profile': True,\n",
       "  'default_profile_image': False,\n",
       "  'can_media_tag': True,\n",
       "  'followed_by': False,\n",
       "  'following': False,\n",
       "  'follow_request_sent': False,\n",
       "  'notifications': False,\n",
       "  'translator_type': 'none'},\n",
       " 'geo': None,\n",
       " 'coordinates': None,\n",
       " 'place': {'id': '00deb766245f441c',\n",
       "  'url': 'https://api.twitter.com/1.1/geo/id/00deb766245f441c.json',\n",
       "  'place_type': 'city',\n",
       "  'name': 'San Jose',\n",
       "  'full_name': 'San Jose, Costa Rica',\n",
       "  'country_code': 'CR',\n",
       "  'country': 'Costa Rica',\n",
       "  'contained_within': [],\n",
       "  'bounding_box': {'type': 'Polygon',\n",
       "   'coordinates': [[[-84.1004715, 9.916954],\n",
       "     [-84.0612335, 9.916954],\n",
       "     [-84.0612335, 9.9436464],\n",
       "     [-84.1004715, 9.9436464]]]},\n",
       "  'attributes': {}},\n",
       " 'contributors': None,\n",
       " 'is_quote_status': True,\n",
       " 'quoted_status_id': 1222968352089563136,\n",
       " 'quoted_status_id_str': '1222968352089563136',\n",
       " 'quoted_status': {'created_at': 'Thu Jan 30 19:42:31 +0000 2020',\n",
       "  'id': 1222968352089563136,\n",
       "  'id_str': '1222968352089563136',\n",
       "  'text': 'En la celebración del 20 aniversario de una multinacional en CR, el Presidente @CarlosAlvQ se dejó decir, al respec… https://t.co/lSEmHjPAgt',\n",
       "  'truncated': True,\n",
       "  'entities': {'hashtags': [],\n",
       "   'symbols': [],\n",
       "   'user_mentions': [{'screen_name': 'CarlosAlvQ',\n",
       "     'name': 'Carlos Alvarado Quesada',\n",
       "     'id': 823245705439547394,\n",
       "     'id_str': '823245705439547394',\n",
       "     'indices': [79, 90]}],\n",
       "   'urls': [{'url': 'https://t.co/lSEmHjPAgt',\n",
       "     'expanded_url': 'https://twitter.com/i/web/status/1222968352089563136',\n",
       "     'display_url': 'twitter.com/i/web/status/1…',\n",
       "     'indices': [117, 140]}]},\n",
       "  'source': '<a href=\"https://mobile.twitter.com\" rel=\"nofollow\">Twitter Web App</a>',\n",
       "  'in_reply_to_status_id': None,\n",
       "  'in_reply_to_status_id_str': None,\n",
       "  'in_reply_to_user_id': None,\n",
       "  'in_reply_to_user_id_str': None,\n",
       "  'in_reply_to_screen_name': None,\n",
       "  'user': {'id': 895419694198534148,\n",
       "   'id_str': '895419694198534148',\n",
       "   'name': 'Eli Feinzaig',\n",
       "   'screen_name': 'elifeinzaig',\n",
       "   'location': 'San José, Costa Rica',\n",
       "   'description': 'Economista, consultor y empresario. Liberal, demócrata y librepensador. Presidente del Partido Liberal Progresista.',\n",
       "   'url': 'https://t.co/ixvF1KK5Li',\n",
       "   'entities': {'url': {'urls': [{'url': 'https://t.co/ixvF1KK5Li',\n",
       "       'expanded_url': 'https://www.facebook.com/efeinzaig/',\n",
       "       'display_url': 'facebook.com/efeinzaig/',\n",
       "       'indices': [0, 23]}]},\n",
       "    'description': {'urls': []}},\n",
       "   'protected': False,\n",
       "   'followers_count': 11279,\n",
       "   'friends_count': 565,\n",
       "   'listed_count': 35,\n",
       "   'created_at': 'Wed Aug 09 23:01:06 +0000 2017',\n",
       "   'favourites_count': 6302,\n",
       "   'utc_offset': None,\n",
       "   'time_zone': None,\n",
       "   'geo_enabled': False,\n",
       "   'verified': False,\n",
       "   'statuses_count': 3040,\n",
       "   'lang': None,\n",
       "   'contributors_enabled': False,\n",
       "   'is_translator': False,\n",
       "   'is_translation_enabled': False,\n",
       "   'profile_background_color': '000000',\n",
       "   'profile_background_image_url': 'http://abs.twimg.com/images/themes/theme1/bg.png',\n",
       "   'profile_background_image_url_https': 'https://abs.twimg.com/images/themes/theme1/bg.png',\n",
       "   'profile_background_tile': False,\n",
       "   'profile_image_url': 'http://pbs.twimg.com/profile_images/1218312836306407424/S4YOvSF1_normal.jpg',\n",
       "   'profile_image_url_https': 'https://pbs.twimg.com/profile_images/1218312836306407424/S4YOvSF1_normal.jpg',\n",
       "   'profile_banner_url': 'https://pbs.twimg.com/profile_banners/895419694198534148/1503278762',\n",
       "   'profile_image_extensions_alt_text': None,\n",
       "   'profile_banner_extensions_alt_text': None,\n",
       "   'profile_link_color': 'FF691F',\n",
       "   'profile_sidebar_border_color': '000000',\n",
       "   'profile_sidebar_fill_color': '000000',\n",
       "   'profile_text_color': '000000',\n",
       "   'profile_use_background_image': False,\n",
       "   'has_extended_profile': True,\n",
       "   'default_profile': False,\n",
       "   'default_profile_image': False,\n",
       "   'can_media_tag': True,\n",
       "   'followed_by': False,\n",
       "   'following': False,\n",
       "   'follow_request_sent': False,\n",
       "   'notifications': False,\n",
       "   'translator_type': 'none'},\n",
       "  'geo': None,\n",
       "  'coordinates': None,\n",
       "  'place': None,\n",
       "  'contributors': None,\n",
       "  'is_quote_status': False,\n",
       "  'retweet_count': 18,\n",
       "  'favorite_count': 31,\n",
       "  'favorited': False,\n",
       "  'retweeted': False,\n",
       "  'lang': 'es'},\n",
       " 'retweet_count': 0,\n",
       " 'favorite_count': 0,\n",
       " 'favorited': False,\n",
       " 'retweeted': False,\n",
       " 'possibly_sensitive': False,\n",
       " 'possibly_sensitive_appealable': False,\n",
       " 'lang': 'und'}"
      ]
     },
     "execution_count": 61,
     "metadata": {},
     "output_type": "execute_result"
    }
   ],
   "source": [
    "api.GetStatus(1222971565844979714)._json"
   ]
  },
  {
   "cell_type": "code",
   "execution_count": 58,
   "metadata": {},
   "outputs": [
    {
     "data": {
      "text/plain": [
       "[Status(ID=1222730116918321153, ScreenName=SomosTimbers, Created=Thu Jan 30 03:55:51 +0000 2020, Text='En La Cueva con un viejo amigo. \\U0001f7e3\\n\\n#RCTID | #SomosTimbers https://t.co/zSmB2RifQQ'),\n",
       " Status(ID=1222972693609373699, ScreenName=ReyDeLosBullies, Created=Thu Jan 30 19:59:46 +0000 2020, Text='@Frexini @Pablexcr Que descarado ese mae jaja'),\n",
       " Status(ID=1222972449832292358, ScreenName=EarayaOviedo, Created=Thu Jan 30 19:58:48 +0000 2020, Text='@yorlenydiputada Diputada! Simple que MHacienda desde ADUANAS coloque la tarifa impositiva respectiva!'),\n",
       " Status(ID=1222972312498180096, ScreenName=Dan19184, Created=Thu Jan 30 19:58:15 +0000 2020, Text='Entonces se destapó todo, con esos PAC... jajaja'),\n",
       " Status(ID=1222971855893606402, ScreenName=EarayaOviedo, Created=Thu Jan 30 19:56:26 +0000 2020, Text='@JulioGCOrdoez1 por favor de leerse ese tw!! Como te digo es para tener un criterio más amplio https://t.co/biKuktveVr'),\n",
       " Status(ID=1222971565844979714, ScreenName=EarayaOviedo, Created=Thu Jan 30 19:55:17 +0000 2020, Text='@julio https://t.co/biKuktveVr'),\n",
       " Status(ID=1222971067494477825, ScreenName=JuandyAcuna, Created=Thu Jan 30 19:53:18 +0000 2020, Text='El mítico William Sunsing https://t.co/Otld6kALXk'),\n",
       " Status(ID=1222970906076684288, ScreenName=ReyDeLosBullies, Created=Thu Jan 30 19:52:40 +0000 2020, Text='@Pablexcr @Frexini Cuál otro?'),\n",
       " Status(ID=1222969942376624131, ScreenName=JuandyAcuna, Created=Thu Jan 30 19:48:50 +0000 2020, Text='@ToniKroos https://t.co/wglH5ldPb8'),\n",
       " Status(ID=1222969426544340994, ScreenName=ReyDeLosBullies, Created=Thu Jan 30 19:46:47 +0000 2020, Text='@palinair Al final el resultado ha sido el mismo desde que volvió hace 7 años, lo que vendría siendo una derrota.')]"
      ]
     },
     "execution_count": 58,
     "metadata": {},
     "output_type": "execute_result"
    }
   ],
   "source": [
    "api.GetSearch(since=2020-1-1, count=10, geocode=\"9.93333,-84.08333,5km\")"
   ]
  },
  {
   "cell_type": "code",
   "execution_count": null,
   "metadata": {},
   "outputs": [],
   "source": []
  }
 ],
 "metadata": {
  "kernelspec": {
   "display_name": "Python 3",
   "language": "python",
   "name": "python3"
  },
  "language_info": {
   "codemirror_mode": {
    "name": "ipython",
    "version": 3
   },
   "file_extension": ".py",
   "mimetype": "text/x-python",
   "name": "python",
   "nbconvert_exporter": "python",
   "pygments_lexer": "ipython3",
   "version": "3.7.4"
  }
 },
 "nbformat": 4,
 "nbformat_minor": 2
}
